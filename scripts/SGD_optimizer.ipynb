{
  "nbformat": 4,
  "nbformat_minor": 0,
  "metadata": {
    "colab": {
      "provenance": [],
      "gpuType": "T4"
    },
    "kernelspec": {
      "name": "python3",
      "display_name": "Python 3"
    },
    "language_info": {
      "name": "python"
    },
    "accelerator": "GPU"
  },
  "cells": [
    {
      "cell_type": "code",
      "execution_count": null,
      "metadata": {
        "id": "7UlbGbXYWFEu"
      },
      "outputs": [],
      "source": [
        "%%bash\n",
        "# Install Python 3.8 and virtual environment tools\n",
        "sudo apt-get install python3.8 python3.8-venv python3.8-dev\n",
        "\n",
        "# Create clean virtual environment\n",
        "python3.8 -m venv --clear gnosis-env\n",
        "source gnosis-env/bin/activate\n",
        "\n",
        "# Clone repo with fresh copy\n",
        "rm -rf gnosis\n",
        "git clone https://github.com/samuelstanton/gnosis.git\n",
        "cd gnosis\n",
        "\n",
        "# Fix dependencies for Python 3.8 compatibility\n",
        "sed -i 's/sklearn/scikit-learn/' requirements.txt\n",
        "\n",
        "# Install core build dependencies\n",
        "pip install --upgrade \"pip<23.3.1\" setuptools==59.5.0 wheel\n",
        "\n",
        "# Install PyTorch with CUDA 11.1 (matching Torch 1.10)\n",
        "pip install torch==1.10.0+cu113 torchvision==0.11.1+cu113 torchaudio==0.10.0+cu113 -f https://download.pytorch.org/whl/cu113/torch_stable.html\n",
        "\n",
        "# Install remaining requirements with numpy first\n",
        "pip install \"numpy<1.24\"\n",
        "pip install -r requirements.txt --ignore-installed\n",
        "pip install -e ."
      ]
    },
    {
      "cell_type": "code",
      "source": [
        "%%bash\n",
        "# Activate the virtual environment\n",
        "source gnosis-env/bin/activate\n",
        "\n",
        "# Downgrade protobuf to version 3.20.3\n",
        "pip install protobuf==3.20.3"
      ],
      "metadata": {
        "id": "hrr8wTpRWI_V"
      },
      "execution_count": null,
      "outputs": []
    },
    {
      "cell_type": "markdown",
      "source": [
        "SGD"
      ],
      "metadata": {
        "id": "yhiZKwPEWkwh"
      }
    },
    {
      "cell_type": "code",
      "source": [
        "!source gnosis-env/bin/activate && python gnosis/scripts/image_classification.py \\\n",
        "  -m trial_id=1 exp_name=resnet20-sgd \\\n",
        "  classifier.depth=20 \\\n",
        "  augmentation.transforms_list=[horizontal_flip,crop] \\\n",
        "  dataloader.batch_size=128 \\\n",
        "  trainer.lr_scheduler.eta_min=0. \\\n",
        "  trainer.num_epochs=150"
      ],
      "metadata": {
        "id": "5cbju8Q9WlX3"
      },
      "execution_count": null,
      "outputs": []
    }
  ]
}